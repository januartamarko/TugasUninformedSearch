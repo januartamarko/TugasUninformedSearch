{
 "cells": [
  {
   "cell_type": "code",
   "execution_count": 22,
   "metadata": {},
   "outputs": [],
   "source": [
    "# sample graph implemented as a dictionary\n",
    "graph = {'A': set(['Z', 'S', 'T']),\n",
    "         'B': set(['P','F']),\n",
    "         'C': set(['P', 'R']),\n",
    "         'D': set(['R', 'M']),\n",
    "         'F': set(['B', 'S']),\n",
    "         'L': set(['M','T']),\n",
    "         'M': set(['D', 'L']),\n",
    "         'O': set(['S', 'Z']),\n",
    "         'P': set(['B', 'R']),\n",
    "         'R': set(['C', 'D', 'P', 'S']),\n",
    "         'S': set(['A', 'O', 'F', 'R']),\n",
    "         'T': set(['A', 'L']),\n",
    "         'Z': set(['O', 'A'])}"
   ]
  },
  {
   "cell_type": "code",
   "execution_count": 25,
   "metadata": {},
   "outputs": [
    {
     "data": {
      "text/plain": [
       "[['A', 'S', 'F', 'B'],\n",
       " ['A', 'S', 'R', 'P', 'B'],\n",
       " ['A', 'S', 'R', 'C', 'P', 'B'],\n",
       " ['A', 'Z', 'O', 'S', 'F', 'B'],\n",
       " ['A', 'Z', 'O', 'S', 'R', 'P', 'B'],\n",
       " ['A', 'Z', 'O', 'S', 'R', 'C', 'P', 'B'],\n",
       " ['A', 'T', 'L', 'M', 'D', 'R', 'P', 'B'],\n",
       " ['A', 'T', 'L', 'M', 'D', 'R', 'C', 'P', 'B'],\n",
       " ['A', 'T', 'L', 'M', 'D', 'R', 'S', 'F', 'B']]"
      ]
     },
     "execution_count": 25,
     "metadata": {},
     "output_type": "execute_result"
    }
   ],
   "source": [
    "def bfs_paths(graph, start, goal):\n",
    "    queue = [(start, [start])]\n",
    "    while queue:\n",
    "        (vertex, path) = queue.pop(0)\n",
    "        for next in graph[vertex] - set(path):\n",
    "            if next == goal:\n",
    "                yield path + [next]\n",
    "            else:\n",
    "                queue.append((next, path + [next]))\n",
    "\n",
    "list(bfs_paths(graph, 'A', 'B'))"
   ]
  },
  {
   "cell_type": "code",
   "execution_count": 23,
   "metadata": {},
   "outputs": [
    {
     "data": {
      "text/plain": [
       "[['A', 'S', 'F', 'B'],\n",
       " ['A', 'S', 'R', 'C', 'P', 'B'],\n",
       " ['A', 'S', 'R', 'P', 'B'],\n",
       " ['A', 'Z', 'O', 'S', 'F', 'B'],\n",
       " ['A', 'Z', 'O', 'S', 'R', 'C', 'P', 'B'],\n",
       " ['A', 'Z', 'O', 'S', 'R', 'P', 'B'],\n",
       " ['A', 'T', 'L', 'M', 'D', 'R', 'C', 'P', 'B'],\n",
       " ['A', 'T', 'L', 'M', 'D', 'R', 'S', 'F', 'B'],\n",
       " ['A', 'T', 'L', 'M', 'D', 'R', 'P', 'B']]"
      ]
     },
     "execution_count": 23,
     "metadata": {},
     "output_type": "execute_result"
    }
   ],
   "source": [
    "def dfs_paths(graph, start, goal, path=None):\n",
    "    if path is None:\n",
    "        path = [start]\n",
    "    if start == goal:\n",
    "        yield path\n",
    "    for next in graph[start] - set(path):\n",
    "        yield from dfs_paths(graph, next, goal, path + [next])\n",
    "\n",
    "list(dfs_paths(graph, 'A', 'B'))"
   ]
  }
 ],
 "metadata": {
  "kernelspec": {
   "display_name": "Python 3",
   "language": "python",
   "name": "python3"
  },
  "language_info": {
   "codemirror_mode": {
    "name": "ipython",
    "version": 3
   },
   "file_extension": ".py",
   "mimetype": "text/x-python",
   "name": "python",
   "nbconvert_exporter": "python",
   "pygments_lexer": "ipython3",
   "version": "3.7.4"
  }
 },
 "nbformat": 4,
 "nbformat_minor": 2
}
